{
 "cells": [
  {
   "cell_type": "code",
   "execution_count": null,
   "metadata": {},
   "outputs": [
    {
     "name": "stdout",
     "output_type": "stream",
     "text": [
      "python version 3.8.3 (default, Jul  2 2020, 11:26:31) \n",
      "[Clang 10.0.0 ]\n"
     ]
    }
   ],
   "source": [
    "from imp import reload\n",
    "import sys, os\n",
    "from copy import deepcopy\n",
    "print('python version %s' % sys.version)\n",
    "\n",
    "import numpy as np\n",
    "print('numpy version %s' % np.__version__)\n",
    "\n",
    "import scipy as sp\n",
    "import scipy.stats as st\n",
    "print('scipy version %s' % sp.__version__)\n",
    "\n",
    "import pandas as pd\n",
    "print('pandas version %s' % pd.__version__)\n",
    "\n",
    "import matplotlib\n",
    "from matplotlib import cm\n",
    "import matplotlib.pyplot as plt\n",
    "print('matplotlib version %s' % matplotlib.__version__)"
   ]
  },
  {
   "cell_type": "code",
   "execution_count": null,
   "metadata": {},
   "outputs": [],
   "source": [
    "SIMULATION_DIRECTORY = 'simulations'\n",
    "DATA_DIRECTORY       = ''\n",
    "SCRIPT_DIR           = 'simulation-scripts'\n",
    "INFERENCE_DATE       = '2021-08-14'\n",
    "SARS_DATA_DIR        = os.path.join(DATA_DIRECTORY, INFERENCE_DATE)"
   ]
  },
  {
   "cell_type": "markdown",
   "metadata": {},
   "source": [
    "## Inference in simulations (run for different parameters and such)"
   ]
  },
  {
   "cell_type": "code",
   "execution_count": 1,
   "metadata": {},
   "outputs": [
    {
     "ename": "NameError",
     "evalue": "name 'os' is not defined",
     "output_type": "error",
     "traceback": [
      "\u001b[0;31m---------------------------------------------------------------------------\u001b[0m",
      "\u001b[0;31mNameError\u001b[0m                                 Traceback (most recent call last)",
      "\u001b[0;32m<ipython-input-1-23df2090737e>\u001b[0m in \u001b[0;36m<module>\u001b[0;34m\u001b[0m\n\u001b[1;32m      6\u001b[0m \u001b[0;31m# the selection coefficients for the mutations, in order of site numbers\u001b[0m\u001b[0;34m\u001b[0m\u001b[0;34m\u001b[0m\u001b[0;34m\u001b[0m\u001b[0m\n\u001b[1;32m      7\u001b[0m \u001b[0minit_sel\u001b[0m \u001b[0;34m=\u001b[0m \u001b[0;34m[\u001b[0m\u001b[0;36m0\u001b[0m\u001b[0;34m,\u001b[0m    \u001b[0;36m0\u001b[0m\u001b[0;34m,\u001b[0m \u001b[0;36m0.03\u001b[0m\u001b[0;34m,\u001b[0m \u001b[0;36m0.03\u001b[0m\u001b[0;34m,\u001b[0m \u001b[0;34m-\u001b[0m\u001b[0;36m0.03\u001b[0m\u001b[0;34m,\u001b[0m \u001b[0;34m-\u001b[0m\u001b[0;36m0.03\u001b[0m\u001b[0;34m]\u001b[0m\u001b[0;34m\u001b[0m\u001b[0;34m\u001b[0m\u001b[0m\n\u001b[0;32m----> 8\u001b[0;31m \u001b[0minit_file\u001b[0m \u001b[0;34m=\u001b[0m \u001b[0mos\u001b[0m\u001b[0;34m.\u001b[0m\u001b[0mpath\u001b[0m\u001b[0;34m.\u001b[0m\u001b[0mjoin\u001b[0m\u001b[0;34m(\u001b[0m\u001b[0mSIMULATION_DIRECTORY\u001b[0m\u001b[0;34m,\u001b[0m \u001b[0;34m\"initial1.npz\"\u001b[0m\u001b[0;34m)\u001b[0m\u001b[0;34m\u001b[0m\u001b[0;34m\u001b[0m\u001b[0m\n\u001b[0m\u001b[1;32m      9\u001b[0m \u001b[0mf\u001b[0m \u001b[0;34m=\u001b[0m \u001b[0mopen\u001b[0m\u001b[0;34m(\u001b[0m\u001b[0minit_file\u001b[0m\u001b[0;34m,\u001b[0m \u001b[0mmode\u001b[0m\u001b[0;34m=\u001b[0m\u001b[0;34m'wb'\u001b[0m\u001b[0;34m)\u001b[0m\u001b[0;34m\u001b[0m\u001b[0;34m\u001b[0m\u001b[0m\n\u001b[1;32m     10\u001b[0m np.savez_compressed(f, counts=init_pop,\n",
      "\u001b[0;31mNameError\u001b[0m: name 'os' is not defined"
     ]
    }
   ],
   "source": [
    "# make initial population\n",
    "# the starting population sizes for the 6 variants\n",
    "init_pop = [1000, 1000, 1000, 1000,  1000,  1000]\n",
    "# the initial sequences where numbers specify location on the genome of a mutation\n",
    "init_seqs = [[0],  [1],  [2],  [3],   [4],   [5]]\n",
    "# the selection coefficients for the mutations, in order of site numbers\n",
    "init_sel = [0,    0, 0.03, 0.03, -0.03, -0.03]\n",
    "init_file = os.path.join(SIMULATION_DIRECTORY, \"initial1.npz\")\n",
    "f = open(init_file, mode='wb')\n",
    "np.savez_compressed(f, counts=init_pop,\n",
    "                    sequences=init_seqs, selection=init_sel)\n",
    "f.close()\n",
    "\n",
    "# print code to run in terminal\n",
    "# file containing the branching process simulation\n",
    "sim_file = os.path.join(SIMULATION_DIRECTORY, \"sim-init-sample50-T50\")\n",
    "\n",
    "# file containing the inference from the branching process\n",
    "inf_file = os.path.join(SIMULATION_DIRECTORY, 'inf-init-sample50-T50')\n",
    "\n",
    "# file containing repeats of the simulation and inference 1000 times\n",
    "rep_file = os.path.join(SIMULATION_DIRECTORY, 'epi-init-sample50-T50')\n",
    "temp1 = os.path.join(SIMULATION_DIRECTORY, 'temp1')\n",
    "temp2 = os.path.join(SIMULATION_DIRECTORY, 'temp2')\n",
    "\n",
    "sim_inf = os.path.join(SCRIPT_DIR, 'Sim-epi.py')"
   ]
  },
  {
   "cell_type": "code",
   "execution_count": null,
   "metadata": {},
   "outputs": [],
   "source": [
    "sim_script = os.path.join(SCRIPT_DIR, 'branching.py')\n",
    "inf_script = os.path.join(SCRIPT_DIR, 'epi-infer-multiple.py')\n",
    "sim_out    = os.path.join(SIMULATION_DIRECTORY, 'sim-init-sample50-T50')\n",
    "inf_out    = os.path.join(SIMULATION_DIRECTORY, 'inf-init-sample50-T50')\n",
    "\n",
    "%run {sim_script} -o {sim_out} --simulations 1 --pop_limit 10000 --sample 50 --mu 0 -T 50 \\\n",
    "-i {init_file}\n",
    "%run {inf_script} --data {sim_out + '.npz'} -o {inf_out} -R 2 --pop_size 10000"
   ]
  },
  {
   "cell_type": "code",
   "execution_count": 16,
   "metadata": {},
   "outputs": [],
   "source": [
    "%run {sim_inf} --n_runs 1000 -o {rep_file} -out1 {temp1} -out2 {temp2} --sample 50 -k 0.1 -R 2 --mu 0 --simulations 1 -T 50 -i {init_file + '.npz'}"
   ]
  },
  {
   "cell_type": "markdown",
   "metadata": {},
   "source": [
    "### Comparison of using real vs. time-varying parameters"
   ]
  },
  {
   "cell_type": "code",
   "execution_count": 22,
   "metadata": {},
   "outputs": [],
   "source": [
    "# Make directories for the files\n",
    "rep_finite_dir  = os.path.join(SIMULATION_DIRECTORY, 'replicates-finite')\n",
    "rep_perfect_dir = os.path.join(SIMULATION_DIRECTORY, 'replicates-perfect')\n",
    "dirs            = [rep_finite_dir, rep_perfect_dir]\n",
    "sub_dirs        = ['lin', 'para-up', 'para-down']\n",
    "for directory in dirs:\n",
    "    if not os.path.exists(directory):\n",
    "        os.makedirs(directory)\n",
    "    for dir2 in sub_dirs:\n",
    "        new_dir = os.path.join(directory, dir2)\n",
    "        if not os.path.exists(new_dir):\n",
    "            os.makedirs(new_dir)"
   ]
  },
  {
   "cell_type": "code",
   "execution_count": 19,
   "metadata": {},
   "outputs": [],
   "source": [
    "# Run a bunch of repeat simulations with perfect sampling and poor sampling and compute the inference\n",
    "temp1     = os.path.join(SIMULATION_DIRECTORY, 'temp1')\n",
    "temp2     = os.path.join(SIMULATION_DIRECTORY, 'temp2')\n",
    "\n",
    "population_para1 = 25 * (np.arange(51)**2) + 1000\n",
    "pop1_file = os.path.join(rep_finite_dir, 'para-up', 'population-para-up.npy')\n",
    "np.save(os.path.join(rep_finite_dir, 'para-up', 'population-para-up.npy'), population_para1)\n",
    "np.save(os.path.join(rep_perfect_dir, 'para-up', 'population-para-up.npy'), population_para1)\n",
    "# finite sampling\n",
    "pop1_out = os.path.join(rep_finite_dir, 'para-up', 'epi-init-parabolic-up')\n",
    "\n",
    "# perfect sampling\n",
    "pop1_out2 = os.path.join(rep_perfect_dir, 'para-up', 'epi-init-parabolic-up')\n",
    "\n",
    "population_para2 = -300 * ((np.arange(51)-25)**2) + 200000\n",
    "pop2_file = os.path.join(rep_finite_dir, 'para-down', 'population-para-down.npy')\n",
    "np.save(os.path.join(rep_finite_dir, 'para-down', 'population-para-down.npy'), population_para2)\n",
    "np.save(os.path.join(rep_perfect_dir, 'para-down', 'population-para-down.npy'), population_para2)\n",
    "# finite sampling\n",
    "pop2_out = os.path.join(rep_finite_dir, 'para-down', 'epi-init-parabolic-down')\n",
    "\n",
    "# perfect sampling\n",
    "pop2_out2 = os.path.join(rep_perfect_dir, 'para-down', 'epi-init-parabolic-down')\n",
    "\n",
    "population_lin = np.arange(51) * 2000\n",
    "pop_lin_file = os.path.join(rep_finite_dir, 'lin', 'population-lin.npy')\n",
    "np.save(os.path.join(rep_finite_dir, 'lin', 'population-lin.npy'), population_lin)\n",
    "np.save(os.path.join(rep_perfect_dir, 'lin', 'population-lin.npy'), population_lin)\n",
    "# finite sampling\n",
    "pop_lin_out = os.path.join(rep_finite_dir, 'lin', 'epi-init-linear')\n",
    "\n",
    "# perfect sampling\n",
    "pop_lin_out2 = os.path.join(rep_perfect_dir, 'lin', 'epi-init-linear')\n",
    "\n",
    "sim_inf = os.path.join(SCRIPT_DIR, 'Sim-epi-tv-params-local.py')"
   ]
  },
  {
   "cell_type": "code",
   "execution_count": 21,
   "metadata": {},
   "outputs": [
    {
     "name": "stdout",
     "output_type": "stream",
     "text": [
      "simulations/temp1 simulations/temp2\n",
      "simulations/replicates-finite/para-up/epi-init-parabolic-up\n",
      "simulations/temp1 simulations/temp2\n",
      "simulations/replicates-perfect/para-up/epi-init-parabolic-up\n",
      "simulations/temp1 simulations/temp2\n",
      "simulations/replicates-finite/para-down/epi-init-parabolic-down\n",
      "simulations/temp1 simulations/temp2\n",
      "simulations/replicates-perfect/para-down/epi-init-parabolic-down\n",
      "simulations/temp1 simulations/temp2\n"
     ]
    },
    {
     "name": "stderr",
     "output_type": "stream",
     "text": [
      "simulation-scripts/epi-infer-multiple.py:144: RuntimeWarning: divide by zero encountered in double_scalars\n",
      "  coefficient1 = (1 / ((1 / (N * k)) + ((k / R) / (N * k - 1))))\n"
     ]
    },
    {
     "name": "stdout",
     "output_type": "stream",
     "text": [
      "simulations/replicates-finite/lin/epi-init-linear\n",
      "simulations/temp1 simulations/temp2\n"
     ]
    },
    {
     "name": "stderr",
     "output_type": "stream",
     "text": [
      "simulation-scripts/epi-infer-multiple.py:144: RuntimeWarning: divide by zero encountered in double_scalars\n",
      "  coefficient1 = (1 / ((1 / (N * k)) + ((k / R) / (N * k - 1))))\n"
     ]
    },
    {
     "name": "stdout",
     "output_type": "stream",
     "text": [
      "simulations/replicates-perfect/lin/epi-init-linear\n"
     ]
    }
   ],
   "source": [
    "# Run the simulations \n",
    "%run {sim_inf} --n_runs 1000 -o {pop1_out} -out1 {temp1} -out2 {temp2} --sample 25 --pop_limit 1000000 -k 0.1 -R 2 --mu 0 --simulations 1 -T 50 -i {init_file} --PopSize {pop1_file} \n",
    "%run {sim_inf} --n_runs 1000 -o {pop1_out2} -out1 {temp1} -out2 {temp2} --pop_limit 1000000 -k 0.1 -R 2 --mu 0 --simulations 1 -T 50 -i {init_file} --PopSize {pop1_file} \n",
    "%run {sim_inf} --n_runs 1000 -o {pop2_out} -out1 {temp1} -out2 {temp2} --sample 25 --pop_limit 1000000 -k 0.1 -R 2 --mu 0 --simulations 1 -T 50 -i {init_file} --PopSize {pop2_file} \n",
    "%run {sim_inf} --n_runs 1000 -o {pop2_out2} -out1 {temp1} -out2 {temp2} --pop_limit 1000000 -k 0.1 -R 2 --mu 0 --simulations 1 -T 50 -i {init_file} --PopSize {pop2_file} \n",
    "%run {sim_inf} --n_runs 1000 -o {pop_lin_out} -out1 {temp1} -out2 {temp2} --sample 25 --pop_limit 1000000 -k 0.1 -R 2 --mu 0 --simulations 1 -T 50 -i {init_file} --PopSize {pop_lin_file}\n",
    "%run {sim_inf} --n_runs 1000 -o {pop_lin_out2} -out1 {temp1} -out2 {temp2} --pop_limit 1000000 -k 0.1 -R 2 --mu 0 --simulations 1 -T 50 -i {init_file} --PopSize {pop_lin_file} "
   ]
  },
  {
   "cell_type": "markdown",
   "metadata": {},
   "source": [
    "## Migration comparison in simulations (correcting for it or not)"
   ]
  },
  {
   "cell_type": "code",
   "execution_count": 32,
   "metadata": {},
   "outputs": [],
   "source": [
    "T           = 100    # the number of time points in the simulation\n",
    "selection   = [0]    # the selection coefficient for the mutation on the inflowing sequences\n",
    "counts      = [[[25] for i in range(T+1)]]    # the number of sequences inflowing at each time\n",
    "sequences   = [[[[10]] for i in range(T+1)]]    # the sequences inflowing at each time\n",
    "inflow_file = os.path.join(SIMULATION_DIRECTORY, 'inflow25.npz') \n",
    "f = open(inflow_file, mode='wb')\n",
    "np.savez_compressed(f, selection=selection, counts=counts, sequences=sequences)\n",
    "f.close()"
   ]
  },
  {
   "cell_type": "code",
   "execution_count": 33,
   "metadata": {},
   "outputs": [],
   "source": [
    "inflow_dir = SIMULATION_DIRECTORY\n",
    "out_file = os.path.join(inflow_dir, 'epi-init-in1')\n",
    "sim_inf  = os.path.join(SCRIPT_DIR, 'Sim-epi-inflow-local.py')"
   ]
  },
  {
   "cell_type": "code",
   "execution_count": 34,
   "metadata": {},
   "outputs": [
    {
     "name": "stdout",
     "output_type": "stream",
     "text": [
      "temp1 temp2\n",
      "simulations/epi-init-in1\n"
     ]
    }
   ],
   "source": [
    "%run {sim_inf} --n_runs 1000 -o {out_file} -out1 temp1 -out2 temp2 --sample 100 -k 0.1 -R 2 --mu 0 --simulations 1 -T 100 -i {init_file} --in_flow {inflow_file}"
   ]
  },
  {
   "cell_type": "markdown",
   "metadata": {},
   "source": [
    "## AUROC for different samples sizes, time-series lengths, population sizes (small), and number of simulations"
   ]
  },
  {
   "cell_type": "code",
   "execution_count": 36,
   "metadata": {},
   "outputs": [],
   "source": [
    "temp1 = os.path.join(SIMULATION_DIRECTORY, 'temp1')\n",
    "temp2 = os.path.join(SIMULATION_DIRECTORY, 'temp2')\n",
    "\n",
    "sample = [5, 10, 25, 50, 100, 150, 200]\n",
    "out_dir_sample = os.path.join(SIMULATION_DIRECTORY, 'epi-init-sample')\n",
    "if not os.path.exists(out_dir_sample):\n",
    "    os.mkdirs(out_dir_sample)\n",
    "\n",
    "times = [5, 10, 25, 50, 100, 150, 200]\n",
    "out_dir_times = os.path.join(SIMULATION_DIRECTORY, 'epi-init-T')\n",
    "if not os.path.exists(out_dir_times):\n",
    "    os.mkdirs(out_dir_times)\n",
    "\n",
    "simulations = [1, 2, 3, 4, 5, 7, 10, 15, 20, 30]\n",
    "out_dir_sims = os.path.join(SIMULATION_DIRECTORY, 'epi-init-sim')\n",
    "if not os.path.exists(out_dir_sims):\n",
    "    os.mkdirs(out_dir_sims)\n",
    "\n",
    "popsize = [25, 50, 100, 250, 500, 750, 1000]\n",
    "out_dir_pop = os.path.join(SIMULATION_DIRECTORY, 'epi-init-smallpop')\n",
    "if not os.path.exists(out_dir_pop):\n",
    "    os.mkdirs(out_dir_pop)\n",
    "    \n",
    "sim_inf = os.path.join(SCRIPT_DIR, 'Sim-epi-cluster.py')"
   ]
  },
  {
   "cell_type": "code",
   "execution_count": 38,
   "metadata": {},
   "outputs": [],
   "source": [
    "# Run the simulations\n",
    "for i in range(len(sample)):\n",
    "    sample_size = sample[i]\n",
    "    out_path    = os.path.join(out_dir_sample, f'sample{sample_size}')\n",
    "    %run {sim_inf} --n_runs 1000 -o {out_path} -out1 {temp1} -out2 {temp2} --sample {str(sample_size)} --pop_limit 10000 -k 0.1 -R 2 --mu 0 --simulations 1 -T 50 -i {init_file}\n",
    "for i in range(len(times)):\n",
    "    time     = times[i]\n",
    "    out_path = os.path.join(out_dir_times, f'T{time}')\n",
    "    %run {sim_inf} --n_runs 1000 -o {out_path} -out1 {temp1} -out2 {temp2} --sample 25 --pop_limit 10000 -k 0.1 -R 2 --mu 0 --simulations 1 -T {str(time)} -i {init_file}\n",
    "for i in range(len(simulations)):\n",
    "    num_sims = simulations[i]\n",
    "    out_path = os.path.join(out_dir_sims, f'sim{num_sims}')\n",
    "    %run {sim_inf} --n_runs 1000 -o {out_path} -out1 {temp1} -out2 {temp2} --sample 50 --pop_limit 10000 -k 0.1 -R 2 --mu 0 --simulations {str(num_sims)} -T 10 -i {init_file}\n",
    "for i in range(len(popsize)):\n",
    "    pop      = popsize[i]\n",
    "    out_path = os.path.join(out_dir_pop, f'N{pop}')\n",
    "    %run {sim_inf} --n_runs 1000 -o {out_path} -out1 {temp1} -out2 {temp2} --sample 50 --pop_limit {str(pop)} -k 0.1 -R 2 --mu 0 --simulations 10 -T 25 -i {init_file}"
   ]
  },
  {
   "cell_type": "code",
   "execution_count": null,
   "metadata": {},
   "outputs": [],
   "source": []
  }
 ],
 "metadata": {
  "kernelspec": {
   "display_name": "Python 3",
   "language": "python",
   "name": "python3"
  },
  "language_info": {
   "codemirror_mode": {
    "name": "ipython",
    "version": 3
   },
   "file_extension": ".py",
   "mimetype": "text/x-python",
   "name": "python",
   "nbconvert_exporter": "python",
   "pygments_lexer": "ipython3",
   "version": "3.8.3"
  }
 },
 "nbformat": 4,
 "nbformat_minor": 4
}
